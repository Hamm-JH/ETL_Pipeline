{
 "cells": [
  {
   "cell_type": "code",
   "execution_count": 1,
   "metadata": {},
   "outputs": [],
   "source": [
    "import requests\n",
    "from pyspark.sql import SparkSession\n",
    "from pyspark.sql.functions import udf\n",
    "from pyspark.sql.types import *\n",
    "from modules import extract_, compress_, load_\n",
    "import pandas as pd"
   ]
  },
  {
   "cell_type": "code",
   "execution_count": 2,
   "metadata": {},
   "outputs": [],
   "source": [
    "# Plan_A : transfrom_flat 함수코드 수정 없이\n",
    "# udf로 만들어 spark에서 의도대로 동작하는지 확인\n",
    "# 함수는 flattened_data 를 반환\n",
    "\n",
    "def transform_flat(date):\n",
    "    '''\n",
    "    날짜를 입력하면 그 날짜의 모든 거래를 품목별 법인별로 집계하여\\n\n",
    "    단일 json 데이터로 반환하는 함수\n",
    "    '''\n",
    "    import os\n",
    "    import math\n",
    "    import json\n",
    "    import pandas as pd\n",
    "    from dotenv import load_dotenv\n",
    "    load_dotenv()\n",
    "\n",
    "    api_id = os.getenv('garak_id')\n",
    "    api_pw = os.getenv('garak_passwd')\n",
    "    url = 'http://www.garak.co.kr/publicdata/dataOpen.do?'\n",
    "\n",
    "    bubin_list = ['11000101','11000102','11000103','11000104','11000105','11000106']\n",
    "    pummok_list = ['감귤','감자','건고추','고구마','단감','당근','딸기','마늘','무',\n",
    "                    '미나리','바나나','배','배추','버섯','사과','상추','생고추','수박',\n",
    "                    '시금치','양배추','양상추','양파','오이','참외','토마토','파',\n",
    "                    '포도','피망','호박']\n",
    "\n",
    "    dict1 = {'data': []}\n",
    "    for pummok in pummok_list:\n",
    "        dict2 = {f'{pummok}': []}\n",
    "        for bubin in bubin_list:\n",
    "            params = (\n",
    "                    ('id', api_id),\n",
    "                    ('passwd', api_pw),\n",
    "                    ('dataid', 'data12'),\n",
    "                    ('pagesize', '10'),\n",
    "                    ('pageidx', '1'),\n",
    "                    ('portal.templet', 'false'),\n",
    "                    ('s_date', date),\n",
    "                    ('s_bubin', bubin),\n",
    "                    ('s_pummok', pummok),\n",
    "                    ('s_sangi', '')\n",
    "                    )\n",
    "            dict3 = {f'{bubin}': []}\n",
    "            list_total_count = int(extract_.extract(url, params)['lists']['list_total_count'])\n",
    "            total_page = math.ceil(int(list_total_count) / 10)\n",
    "\n",
    "            if int(list_total_count) != 0:\n",
    "                for page in range(1, total_page+1):\n",
    "                    params = (\n",
    "                                ('id', api_id),\n",
    "                                ('passwd', api_pw),\n",
    "                                ('dataid', 'data12'),\n",
    "                                ('pagesize', '10'),\n",
    "                                ('pageidx', page),\n",
    "                                ('portal.templet', 'false'),\n",
    "                                ('s_date', date),\n",
    "                                ('s_bubin', bubin),\n",
    "                                ('s_pummok', pummok),\n",
    "                                ('s_sangi', '')\n",
    "                             )\n",
    "                    html_dict = extract_.extract(url, params)\n",
    "                    if list_total_count % 10 > 1:\n",
    "                        for i in range(len(html_dict['lists']['list'])):\n",
    "                            dict3[f'{bubin}'].append({\n",
    "                                'idx' : ((page -1) * 10) + (i + 1),\n",
    "                                'PUMMOK' : html_dict['lists']['list'][i]['PUMMOK'],\n",
    "                                'PUMJONG' : html_dict['lists']['list'][i]['PUMJONG'],\n",
    "                                'UUN' : html_dict['lists']['list'][i]['UUN'],\n",
    "                                'DDD' : html_dict['lists']['list'][i]['DDD'],\n",
    "                                'PPRICE' : html_dict['lists']['list'][i]['PPRICE'],\n",
    "                                'SSANGI' : html_dict['lists']['list'][i]['SSANGI'],\n",
    "                                'CORP_NM' : html_dict['lists']['list'][i]['CORP_NM'],\n",
    "                                'ADJ_DT' : html_dict['lists']['list'][i]['ADJ_DT']\n",
    "                                })\n",
    "                    elif list_total_count % 10 == 1:\n",
    "                        if list_total_count > 1:\n",
    "                            for i in range(10):\n",
    "                                dict3[f'{bubin}'].append({\n",
    "                                    'idx' : ((page -1) * 10) + (i + 1),\n",
    "                                    'PUMMOK' : html_dict['lists']['list'][i]['PUMMOK'],\n",
    "                                    'PUMJONG' : html_dict['lists']['list'][i]['PUMJONG'],\n",
    "                                    'UUN' : html_dict['lists']['list'][i]['UUN'],\n",
    "                                    'DDD' : html_dict['lists']['list'][i]['DDD'],\n",
    "                                    'PPRICE' : html_dict['lists']['list'][i]['PPRICE'],\n",
    "                                    'SSANGI' : html_dict['lists']['list'][i]['SSANGI'],\n",
    "                                    'CORP_NM' : html_dict['lists']['list'][i]['CORP_NM'],\n",
    "                                    'ADJ_DT' : html_dict['lists']['list'][i]['ADJ_DT']\n",
    "                                    })\n",
    "                            list_total_count -= 10\n",
    "                        elif list_total_count == 1:\n",
    "                            dict3[f'{bubin}'].append({\n",
    "                                'idx' : int(html_dict['lists']['list_total_count']),\n",
    "                                'PUMMOK' : html_dict['lists']['list']['PUMMOK'],\n",
    "                                'PUMJONG' : html_dict['lists']['list']['PUMJONG'],\n",
    "                                'UUN' : html_dict['lists']['list']['UUN'],\n",
    "                                'DDD' : html_dict['lists']['list']['DDD'],\n",
    "                                'PPRICE' : html_dict['lists']['list']['PPRICE'],\n",
    "                                'SSANGI' : html_dict['lists']['list']['SSANGI'],\n",
    "                                'CORP_NM' : html_dict['lists']['list']['CORP_NM'],\n",
    "                                'ADJ_DT' : html_dict['lists']['list']['ADJ_DT']\n",
    "                                })\n",
    "                dict2[f'{pummok}'].append(dict3)\n",
    "            else:\n",
    "                pass\n",
    "        dict1['data'].append(dict2)\n",
    "\n",
    "    flattened_data = []\n",
    "    for item_data in dict1['data']:\n",
    "        for item, bubin_list in item_data.items():\n",
    "            for bubin_data in bubin_list:\n",
    "                for bubin, transactions in bubin_data.items():\n",
    "                    for transaction in transactions:\n",
    "                        flattened_row = transaction.copy()\n",
    "                        flattened_row['item'] = item\n",
    "                        flattened_row['bubin'] = bubin\n",
    "                        flattened_data.append(flattened_row)\n",
    "\n",
    "    return flattened_data"
   ]
  },
  {
   "cell_type": "code",
   "execution_count": 5,
   "metadata": {},
   "outputs": [],
   "source": [
    "flattened_data = transform_flat(\"2023-04-07\")"
   ]
  },
  {
   "cell_type": "code",
   "execution_count": 4,
   "metadata": {},
   "outputs": [
    {
     "data": {
      "text/plain": [
       "[]"
      ]
     },
     "execution_count": 4,
     "metadata": {},
     "output_type": "execute_result"
    }
   ],
   "source": [
    "flattened_data"
   ]
  },
  {
   "cell_type": "code",
   "execution_count": 11,
   "metadata": {},
   "outputs": [],
   "source": [
    "spark = SparkSession.builder.appName('Plan_A').getOrCreate()"
   ]
  },
  {
   "cell_type": "code",
   "execution_count": 13,
   "metadata": {},
   "outputs": [],
   "source": [
    "schema = ArrayType(\n",
    "    StructType([\n",
    "        StructField(\"idx\", IntegerType(), True),\n",
    "        StructField(\"PUMMOK\", StringType(), True),\n",
    "        StructField(\"PUMJONG\", StringType(), True),\n",
    "        StructField(\"UUN\", StringType(), True),\n",
    "        StructField(\"DDD\", StringType(), True),\n",
    "        StructField(\"PPRICE\", StringType(), True),\n",
    "        StructField(\"SSANGI\", StringType(), True),\n",
    "        StructField(\"CORP_NM\", StringType(), True),\n",
    "        StructField(\"ADJ_DT\", StringType(), True),\n",
    "        StructField(\"item\", StringType(), True),\n",
    "        StructField(\"bubin\", StringType(), True),\n",
    "    ])\n",
    ")\n",
    "\n",
    "transform_flat_udf = udf(transform_flat, schema)"
   ]
  },
  {
   "cell_type": "code",
   "execution_count": 14,
   "metadata": {},
   "outputs": [],
   "source": [
    "data = [(\"2023-04-01\",), (\"2023-04-02\",), (\"2023-04-03\",)]\n",
    "columns = [\"date\"]\n",
    "input_df = spark.createDataFrame(data, columns)"
   ]
  },
  {
   "cell_type": "code",
   "execution_count": 15,
   "metadata": {},
   "outputs": [
    {
     "data": {
      "text/plain": [
       "DataFrame[date: string]"
      ]
     },
     "execution_count": 15,
     "metadata": {},
     "output_type": "execute_result"
    }
   ],
   "source": [
    "input_df"
   ]
  },
  {
   "cell_type": "code",
   "execution_count": 16,
   "metadata": {},
   "outputs": [
    {
     "name": "stdout",
     "output_type": "stream",
     "text": [
      "+----------+\n",
      "|      date|\n",
      "+----------+\n",
      "|2023-04-01|\n",
      "|2023-04-02|\n",
      "|2023-04-03|\n",
      "+----------+\n",
      "\n"
     ]
    }
   ],
   "source": [
    "input_df.show()"
   ]
  },
  {
   "cell_type": "code",
   "execution_count": 17,
   "metadata": {},
   "outputs": [],
   "source": [
    "result_df = input_df.withColumn(\"flattened_data\", transform_flat_udf(input_df[\"date\"]))"
   ]
  },
  {
   "cell_type": "code",
   "execution_count": 18,
   "metadata": {},
   "outputs": [
    {
     "data": {
      "text/plain": [
       "DataFrame[date: string, flattened_data: array<struct<idx:int,PUMMOK:string,PUMJONG:string,UUN:string,DDD:string,PPRICE:string,SSANGI:string,CORP_NM:string,ADJ_DT:string,item:string,bubin:string>>]"
      ]
     },
     "execution_count": 18,
     "metadata": {},
     "output_type": "execute_result"
    }
   ],
   "source": [
    "result_df"
   ]
  },
  {
   "cell_type": "code",
   "execution_count": 20,
   "metadata": {},
   "outputs": [
    {
     "ename": "PythonException",
     "evalue": "\n  An exception was thrown from the Python worker. Please see the stack trace below.\nTraceback (most recent call last):\n  File \"C:\\Users\\wldnr\\anaconda3\\envs\\cp2\\Lib\\site-packages\\pyspark\\python\\lib\\pyspark.zip\\pyspark\\worker.py\", line 605, in main\n  File \"C:\\Users\\wldnr\\anaconda3\\envs\\cp2\\Lib\\site-packages\\pyspark\\python\\lib\\pyspark.zip\\pyspark\\worker.py\", line 597, in process\n  File \"C:\\Users\\wldnr\\anaconda3\\envs\\cp2\\Lib\\site-packages\\pyspark\\python\\lib\\pyspark.zip\\pyspark\\serializers.py\", line 223, in dump_stream\n    self.serializer.dump_stream(self._batched(iterator), stream)\n  File \"C:\\Users\\wldnr\\anaconda3\\envs\\cp2\\Lib\\site-packages\\pyspark\\python\\lib\\pyspark.zip\\pyspark\\serializers.py\", line 141, in dump_stream\n    for obj in iterator:\n  File \"C:\\Users\\wldnr\\anaconda3\\envs\\cp2\\Lib\\site-packages\\pyspark\\python\\lib\\pyspark.zip\\pyspark\\serializers.py\", line 212, in _batched\n    for item in iterator:\n  File \"C:\\Users\\wldnr\\anaconda3\\envs\\cp2\\Lib\\site-packages\\pyspark\\python\\lib\\pyspark.zip\\pyspark\\worker.py\", line 450, in mapper\n  File \"C:\\Users\\wldnr\\anaconda3\\envs\\cp2\\Lib\\site-packages\\pyspark\\python\\lib\\pyspark.zip\\pyspark\\worker.py\", line 450, in <genexpr>\n  File \"C:\\Users\\wldnr\\anaconda3\\envs\\cp2\\Lib\\site-packages\\pyspark\\python\\lib\\pyspark.zip\\pyspark\\worker.py\", line 88, in <lambda>\n  File \"C:\\Users\\wldnr\\anaconda3\\envs\\cp2\\Lib\\site-packages\\pyspark\\python\\lib\\pyspark.zip\\pyspark\\util.py\", line 107, in wrapper\n    return f(*args, **kwargs)\n  File \"C:\\Users\\wldnr\\AppData\\Local\\Temp\\ipykernel_28752\\2977291732.py\", line 17, in transform_flat\n  File \"c:\\Users\\wldnr\\anaconda3\\envs\\cp2\\lib\\site-packages\\dotenv\\main.py\", line 336, in load_dotenv\n    dotenv_path = find_dotenv()\n  File \"c:\\Users\\wldnr\\anaconda3\\envs\\cp2\\lib\\site-packages\\dotenv\\main.py\", line 300, in find_dotenv\n    for dirname in _walk_to_root(path):\n  File \"c:\\Users\\wldnr\\anaconda3\\envs\\cp2\\lib\\site-packages\\dotenv\\main.py\", line 257, in _walk_to_root\n    raise IOError('Starting path not found')\nOSError: Starting path not found\n",
     "output_type": "error",
     "traceback": [
      "\u001b[1;31m---------------------------------------------------------------------------\u001b[0m",
      "\u001b[1;31mPythonException\u001b[0m                           Traceback (most recent call last)",
      "Cell \u001b[1;32mIn[20], line 1\u001b[0m\n\u001b[1;32m----> 1\u001b[0m result_df\u001b[39m.\u001b[39;49mshow(\u001b[39m1\u001b[39;49m)\n",
      "File \u001b[1;32mc:\\Users\\wldnr\\anaconda3\\envs\\cp2\\lib\\site-packages\\pyspark\\sql\\dataframe.py:440\u001b[0m, in \u001b[0;36mDataFrame.show\u001b[1;34m(self, n, truncate, vertical)\u001b[0m\n\u001b[0;32m    406\u001b[0m \u001b[39m\u001b[39m\u001b[39m\"\"\"Prints the first ``n`` rows to the console.\u001b[39;00m\n\u001b[0;32m    407\u001b[0m \n\u001b[0;32m    408\u001b[0m \u001b[39m:param n: Number of rows to show.\u001b[39;00m\n\u001b[1;32m   (...)\u001b[0m\n\u001b[0;32m    437\u001b[0m \u001b[39m name | Bob\u001b[39;00m\n\u001b[0;32m    438\u001b[0m \u001b[39m\"\"\"\u001b[39;00m\n\u001b[0;32m    439\u001b[0m \u001b[39mif\u001b[39;00m \u001b[39misinstance\u001b[39m(truncate, \u001b[39mbool\u001b[39m) \u001b[39mand\u001b[39;00m truncate:\n\u001b[1;32m--> 440\u001b[0m     \u001b[39mprint\u001b[39m(\u001b[39mself\u001b[39;49m\u001b[39m.\u001b[39;49m_jdf\u001b[39m.\u001b[39;49mshowString(n, \u001b[39m20\u001b[39;49m, vertical))\n\u001b[0;32m    441\u001b[0m \u001b[39melse\u001b[39;00m:\n\u001b[0;32m    442\u001b[0m     \u001b[39mprint\u001b[39m(\u001b[39mself\u001b[39m\u001b[39m.\u001b[39m_jdf\u001b[39m.\u001b[39mshowString(n, \u001b[39mint\u001b[39m(truncate), vertical))\n",
      "File \u001b[1;32mc:\\Users\\wldnr\\anaconda3\\envs\\cp2\\lib\\site-packages\\py4j\\java_gateway.py:1304\u001b[0m, in \u001b[0;36mJavaMember.__call__\u001b[1;34m(self, *args)\u001b[0m\n\u001b[0;32m   1298\u001b[0m command \u001b[39m=\u001b[39m proto\u001b[39m.\u001b[39mCALL_COMMAND_NAME \u001b[39m+\u001b[39m\\\n\u001b[0;32m   1299\u001b[0m     \u001b[39mself\u001b[39m\u001b[39m.\u001b[39mcommand_header \u001b[39m+\u001b[39m\\\n\u001b[0;32m   1300\u001b[0m     args_command \u001b[39m+\u001b[39m\\\n\u001b[0;32m   1301\u001b[0m     proto\u001b[39m.\u001b[39mEND_COMMAND_PART\n\u001b[0;32m   1303\u001b[0m answer \u001b[39m=\u001b[39m \u001b[39mself\u001b[39m\u001b[39m.\u001b[39mgateway_client\u001b[39m.\u001b[39msend_command(command)\n\u001b[1;32m-> 1304\u001b[0m return_value \u001b[39m=\u001b[39m get_return_value(\n\u001b[0;32m   1305\u001b[0m     answer, \u001b[39mself\u001b[39;49m\u001b[39m.\u001b[39;49mgateway_client, \u001b[39mself\u001b[39;49m\u001b[39m.\u001b[39;49mtarget_id, \u001b[39mself\u001b[39;49m\u001b[39m.\u001b[39;49mname)\n\u001b[0;32m   1307\u001b[0m \u001b[39mfor\u001b[39;00m temp_arg \u001b[39min\u001b[39;00m temp_args:\n\u001b[0;32m   1308\u001b[0m     temp_arg\u001b[39m.\u001b[39m_detach()\n",
      "File \u001b[1;32mc:\\Users\\wldnr\\anaconda3\\envs\\cp2\\lib\\site-packages\\pyspark\\sql\\utils.py:134\u001b[0m, in \u001b[0;36mcapture_sql_exception.<locals>.deco\u001b[1;34m(*a, **kw)\u001b[0m\n\u001b[0;32m    130\u001b[0m converted \u001b[39m=\u001b[39m convert_exception(e\u001b[39m.\u001b[39mjava_exception)\n\u001b[0;32m    131\u001b[0m \u001b[39mif\u001b[39;00m \u001b[39mnot\u001b[39;00m \u001b[39misinstance\u001b[39m(converted, UnknownException):\n\u001b[0;32m    132\u001b[0m     \u001b[39m# Hide where the exception came from that shows a non-Pythonic\u001b[39;00m\n\u001b[0;32m    133\u001b[0m     \u001b[39m# JVM exception message.\u001b[39;00m\n\u001b[1;32m--> 134\u001b[0m     raise_from(converted)\n\u001b[0;32m    135\u001b[0m \u001b[39melse\u001b[39;00m:\n\u001b[0;32m    136\u001b[0m     \u001b[39mraise\u001b[39;00m\n",
      "File \u001b[1;32m<string>:3\u001b[0m, in \u001b[0;36mraise_from\u001b[1;34m(e)\u001b[0m\n",
      "\u001b[1;31mPythonException\u001b[0m: \n  An exception was thrown from the Python worker. Please see the stack trace below.\nTraceback (most recent call last):\n  File \"C:\\Users\\wldnr\\anaconda3\\envs\\cp2\\Lib\\site-packages\\pyspark\\python\\lib\\pyspark.zip\\pyspark\\worker.py\", line 605, in main\n  File \"C:\\Users\\wldnr\\anaconda3\\envs\\cp2\\Lib\\site-packages\\pyspark\\python\\lib\\pyspark.zip\\pyspark\\worker.py\", line 597, in process\n  File \"C:\\Users\\wldnr\\anaconda3\\envs\\cp2\\Lib\\site-packages\\pyspark\\python\\lib\\pyspark.zip\\pyspark\\serializers.py\", line 223, in dump_stream\n    self.serializer.dump_stream(self._batched(iterator), stream)\n  File \"C:\\Users\\wldnr\\anaconda3\\envs\\cp2\\Lib\\site-packages\\pyspark\\python\\lib\\pyspark.zip\\pyspark\\serializers.py\", line 141, in dump_stream\n    for obj in iterator:\n  File \"C:\\Users\\wldnr\\anaconda3\\envs\\cp2\\Lib\\site-packages\\pyspark\\python\\lib\\pyspark.zip\\pyspark\\serializers.py\", line 212, in _batched\n    for item in iterator:\n  File \"C:\\Users\\wldnr\\anaconda3\\envs\\cp2\\Lib\\site-packages\\pyspark\\python\\lib\\pyspark.zip\\pyspark\\worker.py\", line 450, in mapper\n  File \"C:\\Users\\wldnr\\anaconda3\\envs\\cp2\\Lib\\site-packages\\pyspark\\python\\lib\\pyspark.zip\\pyspark\\worker.py\", line 450, in <genexpr>\n  File \"C:\\Users\\wldnr\\anaconda3\\envs\\cp2\\Lib\\site-packages\\pyspark\\python\\lib\\pyspark.zip\\pyspark\\worker.py\", line 88, in <lambda>\n  File \"C:\\Users\\wldnr\\anaconda3\\envs\\cp2\\Lib\\site-packages\\pyspark\\python\\lib\\pyspark.zip\\pyspark\\util.py\", line 107, in wrapper\n    return f(*args, **kwargs)\n  File \"C:\\Users\\wldnr\\AppData\\Local\\Temp\\ipykernel_28752\\2977291732.py\", line 17, in transform_flat\n  File \"c:\\Users\\wldnr\\anaconda3\\envs\\cp2\\lib\\site-packages\\dotenv\\main.py\", line 336, in load_dotenv\n    dotenv_path = find_dotenv()\n  File \"c:\\Users\\wldnr\\anaconda3\\envs\\cp2\\lib\\site-packages\\dotenv\\main.py\", line 300, in find_dotenv\n    for dirname in _walk_to_root(path):\n  File \"c:\\Users\\wldnr\\anaconda3\\envs\\cp2\\lib\\site-packages\\dotenv\\main.py\", line 257, in _walk_to_root\n    raise IOError('Starting path not found')\nOSError: Starting path not found\n"
     ]
    }
   ],
   "source": [
    "result_df.show(1)"
   ]
  },
  {
   "cell_type": "code",
   "execution_count": 9,
   "metadata": {},
   "outputs": [],
   "source": [
    "spark.stop()"
   ]
  }
 ],
 "metadata": {
  "kernelspec": {
   "display_name": "cp2",
   "language": "python",
   "name": "python3"
  },
  "language_info": {
   "codemirror_mode": {
    "name": "ipython",
    "version": 3
   },
   "file_extension": ".py",
   "mimetype": "text/x-python",
   "name": "python",
   "nbconvert_exporter": "python",
   "pygments_lexer": "ipython3",
   "version": "3.10.10"
  },
  "orig_nbformat": 4
 },
 "nbformat": 4,
 "nbformat_minor": 2
}
