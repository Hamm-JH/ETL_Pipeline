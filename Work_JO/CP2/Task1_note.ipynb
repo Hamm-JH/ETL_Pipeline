{
 "cells": [
  {
   "cell_type": "code",
   "execution_count": 1,
   "metadata": {},
   "outputs": [],
   "source": [
    "import pandas as pd\n",
    "import os"
   ]
  },
  {
   "cell_type": "code",
   "execution_count": 6,
   "metadata": {},
   "outputs": [],
   "source": [
    "from JO_modules import extract_, merge_, dropna_, load_, compress_"
   ]
  },
  {
   "cell_type": "code",
   "execution_count": 7,
   "metadata": {},
   "outputs": [],
   "source": [
    "path_dir = 'C:/Users/wldnr/OneDrive/바탕 화면/DF/Work_JO/CP2/Batch_data'\n",
    "path_2020 = 'C:/Users/wldnr/OneDrive/바탕 화면/DF/Work_JO/CP2/Batch_data/20.04.01~21.01.03/S-DoT_NATURE_2020.04.01-04.30.csv'\n",
    "path_2021 = 'C:/Users/wldnr/OneDrive/바탕 화면/DF/Work_JO/CP2/Batch_data/21.01.04~22.01.02'\n",
    "path_2022 = 'C:/Users/wldnr/OneDrive/바탕 화면/DF/Work_JO/CP2/Batch_data/22.01.03~23.01.01'\n",
    "path_2023 = 'C:/Users/wldnr/OneDrive/바탕 화면/DF/Work_JO/CP2/Batch_data/23.01.02~23.03.26/S-DoT_NATURE_2023.03.20-03.26.csv'"
   ]
  },
  {
   "cell_type": "code",
   "execution_count": 8,
   "metadata": {},
   "outputs": [],
   "source": [
    "df1 = extract_.extract_col_1(path_2020)\n",
    "df2 = extract_.extract_col_1(path_2023)"
   ]
  },
  {
   "cell_type": "code",
   "execution_count": 9,
   "metadata": {},
   "outputs": [
    {
     "data": {
      "text/html": [
       "<div>\n",
       "<style scoped>\n",
       "    .dataframe tbody tr th:only-of-type {\n",
       "        vertical-align: middle;\n",
       "    }\n",
       "\n",
       "    .dataframe tbody tr th {\n",
       "        vertical-align: top;\n",
       "    }\n",
       "\n",
       "    .dataframe thead th {\n",
       "        text-align: right;\n",
       "    }\n",
       "</style>\n",
       "<table border=\"1\" class=\"dataframe\">\n",
       "  <thead>\n",
       "    <tr style=\"text-align: right;\">\n",
       "      <th></th>\n",
       "      <th>초미세먼지(㎍/㎥)</th>\n",
       "      <th>미세먼지(㎍/㎥)</th>\n",
       "      <th>초미세먼지 보정(㎍/㎥)</th>\n",
       "      <th>미세먼지 보정(㎍/㎥)</th>\n",
       "      <th>등록일자</th>\n",
       "    </tr>\n",
       "  </thead>\n",
       "  <tbody>\n",
       "    <tr>\n",
       "      <th>0</th>\n",
       "      <td>15</td>\n",
       "      <td>26</td>\n",
       "      <td>24.0</td>\n",
       "      <td>53.0</td>\n",
       "      <td>2020.4.1 1:00</td>\n",
       "    </tr>\n",
       "    <tr>\n",
       "      <th>1</th>\n",
       "      <td>21</td>\n",
       "      <td>37</td>\n",
       "      <td>37.0</td>\n",
       "      <td>74.0</td>\n",
       "      <td>2020.4.1 12:00</td>\n",
       "    </tr>\n",
       "    <tr>\n",
       "      <th>2</th>\n",
       "      <td>18</td>\n",
       "      <td>39</td>\n",
       "      <td>29.0</td>\n",
       "      <td>79.0</td>\n",
       "      <td>2020.4.1 18:00</td>\n",
       "    </tr>\n",
       "    <tr>\n",
       "      <th>3</th>\n",
       "      <td>2</td>\n",
       "      <td>3</td>\n",
       "      <td>4.0</td>\n",
       "      <td>6.0</td>\n",
       "      <td>2020.4.2 0:00</td>\n",
       "    </tr>\n",
       "    <tr>\n",
       "      <th>4</th>\n",
       "      <td>3</td>\n",
       "      <td>5</td>\n",
       "      <td>6.0</td>\n",
       "      <td>10.0</td>\n",
       "      <td>2020.4.2 6:00</td>\n",
       "    </tr>\n",
       "    <tr>\n",
       "      <th>5</th>\n",
       "      <td>8</td>\n",
       "      <td>16</td>\n",
       "      <td>16.0</td>\n",
       "      <td>32.0</td>\n",
       "      <td>2020.4.2 12:00</td>\n",
       "    </tr>\n",
       "    <tr>\n",
       "      <th>6</th>\n",
       "      <td>6</td>\n",
       "      <td>13</td>\n",
       "      <td>12.0</td>\n",
       "      <td>25.0</td>\n",
       "      <td>2020.4.2 15:00</td>\n",
       "    </tr>\n",
       "    <tr>\n",
       "      <th>7</th>\n",
       "      <td>9</td>\n",
       "      <td>15</td>\n",
       "      <td>18.0</td>\n",
       "      <td>30.0</td>\n",
       "      <td>2020.4.2 23:00</td>\n",
       "    </tr>\n",
       "    <tr>\n",
       "      <th>8</th>\n",
       "      <td>12</td>\n",
       "      <td>18</td>\n",
       "      <td>24.0</td>\n",
       "      <td>37.0</td>\n",
       "      <td>2020.4.3 4:00</td>\n",
       "    </tr>\n",
       "    <tr>\n",
       "      <th>9</th>\n",
       "      <td>15</td>\n",
       "      <td>25</td>\n",
       "      <td>30.0</td>\n",
       "      <td>49.0</td>\n",
       "      <td>2020.4.3 12:00</td>\n",
       "    </tr>\n",
       "  </tbody>\n",
       "</table>\n",
       "</div>"
      ],
      "text/plain": [
       "   초미세먼지(㎍/㎥)  미세먼지(㎍/㎥)  초미세먼지 보정(㎍/㎥)  미세먼지 보정(㎍/㎥)            등록일자\n",
       "0          15         26           24.0          53.0   2020.4.1 1:00\n",
       "1          21         37           37.0          74.0  2020.4.1 12:00\n",
       "2          18         39           29.0          79.0  2020.4.1 18:00\n",
       "3           2          3            4.0           6.0   2020.4.2 0:00\n",
       "4           3          5            6.0          10.0   2020.4.2 6:00\n",
       "5           8         16           16.0          32.0  2020.4.2 12:00\n",
       "6           6         13           12.0          25.0  2020.4.2 15:00\n",
       "7           9         15           18.0          30.0  2020.4.2 23:00\n",
       "8          12         18           24.0          37.0   2020.4.3 4:00\n",
       "9          15         25           30.0          49.0  2020.4.3 12:00"
      ]
     },
     "execution_count": 9,
     "metadata": {},
     "output_type": "execute_result"
    }
   ],
   "source": [
    "df1.head(10)"
   ]
  },
  {
   "cell_type": "code",
   "execution_count": 10,
   "metadata": {},
   "outputs": [
    {
     "data": {
      "text/html": [
       "<div>\n",
       "<style scoped>\n",
       "    .dataframe tbody tr th:only-of-type {\n",
       "        vertical-align: middle;\n",
       "    }\n",
       "\n",
       "    .dataframe tbody tr th {\n",
       "        vertical-align: top;\n",
       "    }\n",
       "\n",
       "    .dataframe thead th {\n",
       "        text-align: right;\n",
       "    }\n",
       "</style>\n",
       "<table border=\"1\" class=\"dataframe\">\n",
       "  <thead>\n",
       "    <tr style=\"text-align: right;\">\n",
       "      <th></th>\n",
       "      <th>초미세먼지 최대(㎍/㎥)</th>\n",
       "      <th>초미세먼지 평균(㎍/㎥)</th>\n",
       "      <th>초미세먼지 최소(㎍/㎥)</th>\n",
       "      <th>미세먼지 최대(㎍/㎥)</th>\n",
       "      <th>미세먼지 평균(㎍/㎥)</th>\n",
       "      <th>미세먼지 최소(㎍/㎥)</th>\n",
       "      <th>등록일시</th>\n",
       "    </tr>\n",
       "  </thead>\n",
       "  <tbody>\n",
       "    <tr>\n",
       "      <th>0</th>\n",
       "      <td>105</td>\n",
       "      <td>60.0</td>\n",
       "      <td>54</td>\n",
       "      <td>158</td>\n",
       "      <td>91.0</td>\n",
       "      <td>80</td>\n",
       "      <td>2023-03-20 12:07:25</td>\n",
       "    </tr>\n",
       "    <tr>\n",
       "      <th>1</th>\n",
       "      <td>47</td>\n",
       "      <td>40.0</td>\n",
       "      <td>34</td>\n",
       "      <td>48</td>\n",
       "      <td>41.0</td>\n",
       "      <td>34</td>\n",
       "      <td>2023-03-20 12:07:25</td>\n",
       "    </tr>\n",
       "    <tr>\n",
       "      <th>2</th>\n",
       "      <td>112</td>\n",
       "      <td>101.</td>\n",
       "      <td>82</td>\n",
       "      <td>117</td>\n",
       "      <td>105.</td>\n",
       "      <td>85</td>\n",
       "      <td>2023-03-20 12:07:25</td>\n",
       "    </tr>\n",
       "    <tr>\n",
       "      <th>3</th>\n",
       "      <td>50</td>\n",
       "      <td>46.0</td>\n",
       "      <td>41</td>\n",
       "      <td>73</td>\n",
       "      <td>67.0</td>\n",
       "      <td>59</td>\n",
       "      <td>2023-03-20 12:07:25</td>\n",
       "    </tr>\n",
       "  </tbody>\n",
       "</table>\n",
       "</div>"
      ],
      "text/plain": [
       "  초미세먼지 최대(㎍/㎥) 초미세먼지 평균(㎍/㎥) 초미세먼지 최소(㎍/㎥) 미세먼지 최대(㎍/㎥) 미세먼지 평균(㎍/㎥)  \\\n",
       "0           105          60.0            54          158         91.0   \n",
       "1            47          40.0            34           48         41.0   \n",
       "2           112          101.            82          117         105.   \n",
       "3            50          46.0            41           73         67.0   \n",
       "\n",
       "  미세먼지 최소(㎍/㎥)                 등록일시  \n",
       "0           80  2023-03-20 12:07:25  \n",
       "1           34  2023-03-20 12:07:25  \n",
       "2           85  2023-03-20 12:07:25  \n",
       "3           59  2023-03-20 12:07:25  "
      ]
     },
     "execution_count": 10,
     "metadata": {},
     "output_type": "execute_result"
    }
   ],
   "source": [
    "df2.head(4)"
   ]
  },
  {
   "cell_type": "code",
   "execution_count": 11,
   "metadata": {},
   "outputs": [
    {
     "name": "stderr",
     "output_type": "stream",
     "text": [
      "c:\\Users\\wldnr\\OneDrive\\바탕 화면\\DF\\Work_JO\\CP2\\JO_modules\\extract_\\__init__.py:7: DtypeWarning: Columns (22,23) have mixed types. Specify dtype option on import or set low_memory=False.\n",
      "  data = pd.read_csv(f'{file_path}', encoding = 'cp949')\n",
      "c:\\Users\\wldnr\\OneDrive\\바탕 화면\\DF\\Work_JO\\CP2\\JO_modules\\extract_\\__init__.py:7: DtypeWarning: Columns (6) have mixed types. Specify dtype option on import or set low_memory=False.\n",
      "  data = pd.read_csv(f'{file_path}', encoding = 'cp949')\n",
      "c:\\Users\\wldnr\\OneDrive\\바탕 화면\\DF\\Work_JO\\CP2\\JO_modules\\extract_\\__init__.py:7: DtypeWarning: Columns (6,13) have mixed types. Specify dtype option on import or set low_memory=False.\n",
      "  data = pd.read_csv(f'{file_path}', encoding = 'cp949')\n",
      "c:\\Users\\wldnr\\OneDrive\\바탕 화면\\DF\\Work_JO\\CP2\\JO_modules\\extract_\\__init__.py:7: DtypeWarning: Columns (6,22,23) have mixed types. Specify dtype option on import or set low_memory=False.\n",
      "  data = pd.read_csv(f'{file_path}', encoding = 'cp949')\n",
      "c:\\Users\\wldnr\\OneDrive\\바탕 화면\\DF\\Work_JO\\CP2\\JO_modules\\extract_\\__init__.py:7: DtypeWarning: Columns (6,21,22,23) have mixed types. Specify dtype option on import or set low_memory=False.\n",
      "  data = pd.read_csv(f'{file_path}', encoding = 'cp949')\n",
      "c:\\Users\\wldnr\\OneDrive\\바탕 화면\\DF\\Work_JO\\CP2\\JO_modules\\extract_\\__init__.py:7: DtypeWarning: Columns (21) have mixed types. Specify dtype option on import or set low_memory=False.\n",
      "  data = pd.read_csv(f'{file_path}', encoding = 'cp949')\n",
      "c:\\Users\\wldnr\\OneDrive\\바탕 화면\\DF\\Work_JO\\CP2\\JO_modules\\extract_\\__init__.py:7: DtypeWarning: Columns (21) have mixed types. Specify dtype option on import or set low_memory=False.\n",
      "  data = pd.read_csv(f'{file_path}', encoding = 'cp949')\n",
      "c:\\Users\\wldnr\\OneDrive\\바탕 화면\\DF\\Work_JO\\CP2\\JO_modules\\extract_\\__init__.py:7: DtypeWarning: Columns (6,21) have mixed types. Specify dtype option on import or set low_memory=False.\n",
      "  data = pd.read_csv(f'{file_path}', encoding = 'cp949')\n",
      "c:\\Users\\wldnr\\OneDrive\\바탕 화면\\DF\\Work_JO\\CP2\\JO_modules\\extract_\\__init__.py:7: DtypeWarning: Columns (3,4,5,6,7,8,9,10,11,12,13,14,15,16,17,18,19,20,21,22,23,24) have mixed types. Specify dtype option on import or set low_memory=False.\n",
      "  data = pd.read_csv(f'{file_path}', encoding = 'cp949')\n",
      "c:\\Users\\wldnr\\OneDrive\\바탕 화면\\DF\\Work_JO\\CP2\\JO_modules\\extract_\\__init__.py:7: DtypeWarning: Columns (6,7,8,9,10,11,12,13,14,15,16,17,18,19,20,21,22,23,24,25,26,27,28,29,30,31,32,33,34,35,36,37,38,39,40,41,42,43,44,45,46,47,48,49,50,51,52,53,54,55,56,57,58,59,60,61,62) have mixed types. Specify dtype option on import or set low_memory=False.\n",
      "  data = pd.read_csv(f'{file_path}', encoding = 'cp949')\n",
      "c:\\Users\\wldnr\\OneDrive\\바탕 화면\\DF\\Work_JO\\CP2\\JO_modules\\extract_\\__init__.py:7: DtypeWarning: Columns (6,7,8,9,10,11,12,13,14,15,16,17,18,19,20,21,22,23,24,25,26,27,28,29,30,31,32,33,34,35,36,37,38,39,40,41,42,43,44,45,46,47,48,49,50,51,52,53,54,55,56,57,58,59,60,61,62) have mixed types. Specify dtype option on import or set low_memory=False.\n",
      "  data = pd.read_csv(f'{file_path}', encoding = 'cp949')\n"
     ]
    }
   ],
   "source": [
    "path_dir = 'C:/Users/wldnr/OneDrive/바탕 화면/DF/Work_JO/CP2/Batch_data'\n",
    "\n",
    "df1, df2 = merge_.merge_df_1(path_dir)"
   ]
  },
  {
   "cell_type": "code",
   "execution_count": 12,
   "metadata": {},
   "outputs": [
    {
     "data": {
      "text/html": [
       "<div>\n",
       "<style scoped>\n",
       "    .dataframe tbody tr th:only-of-type {\n",
       "        vertical-align: middle;\n",
       "    }\n",
       "\n",
       "    .dataframe tbody tr th {\n",
       "        vertical-align: top;\n",
       "    }\n",
       "\n",
       "    .dataframe thead th {\n",
       "        text-align: right;\n",
       "    }\n",
       "</style>\n",
       "<table border=\"1\" class=\"dataframe\">\n",
       "  <thead>\n",
       "    <tr style=\"text-align: right;\">\n",
       "      <th></th>\n",
       "      <th>초미세먼지(㎍/㎥)</th>\n",
       "      <th>미세먼지(㎍/㎥)</th>\n",
       "      <th>초미세먼지 보정(㎍/㎥)</th>\n",
       "      <th>미세먼지 보정(㎍/㎥)</th>\n",
       "      <th>등록일자</th>\n",
       "    </tr>\n",
       "  </thead>\n",
       "  <tbody>\n",
       "    <tr>\n",
       "      <th>0</th>\n",
       "      <td>15</td>\n",
       "      <td>26</td>\n",
       "      <td>24.0</td>\n",
       "      <td>53.0</td>\n",
       "      <td>2020.4.1 1:00</td>\n",
       "    </tr>\n",
       "    <tr>\n",
       "      <th>1</th>\n",
       "      <td>21</td>\n",
       "      <td>37</td>\n",
       "      <td>37.0</td>\n",
       "      <td>74.0</td>\n",
       "      <td>2020.4.1 12:00</td>\n",
       "    </tr>\n",
       "    <tr>\n",
       "      <th>2</th>\n",
       "      <td>18</td>\n",
       "      <td>39</td>\n",
       "      <td>29.0</td>\n",
       "      <td>79.0</td>\n",
       "      <td>2020.4.1 18:00</td>\n",
       "    </tr>\n",
       "    <tr>\n",
       "      <th>3</th>\n",
       "      <td>2</td>\n",
       "      <td>3</td>\n",
       "      <td>4.0</td>\n",
       "      <td>6.0</td>\n",
       "      <td>2020.4.2 0:00</td>\n",
       "    </tr>\n",
       "    <tr>\n",
       "      <th>4</th>\n",
       "      <td>3</td>\n",
       "      <td>5</td>\n",
       "      <td>6.0</td>\n",
       "      <td>10.0</td>\n",
       "      <td>2020.4.2 6:00</td>\n",
       "    </tr>\n",
       "  </tbody>\n",
       "</table>\n",
       "</div>"
      ],
      "text/plain": [
       "  초미세먼지(㎍/㎥) 미세먼지(㎍/㎥) 초미세먼지 보정(㎍/㎥) 미세먼지 보정(㎍/㎥)            등록일자\n",
       "0         15        26          24.0         53.0   2020.4.1 1:00\n",
       "1         21        37          37.0         74.0  2020.4.1 12:00\n",
       "2         18        39          29.0         79.0  2020.4.1 18:00\n",
       "3          2         3           4.0          6.0   2020.4.2 0:00\n",
       "4          3         5           6.0         10.0   2020.4.2 6:00"
      ]
     },
     "execution_count": 12,
     "metadata": {},
     "output_type": "execute_result"
    }
   ],
   "source": [
    "df1.head(5)"
   ]
  },
  {
   "cell_type": "code",
   "execution_count": 13,
   "metadata": {},
   "outputs": [
    {
     "data": {
      "text/html": [
       "<div>\n",
       "<style scoped>\n",
       "    .dataframe tbody tr th:only-of-type {\n",
       "        vertical-align: middle;\n",
       "    }\n",
       "\n",
       "    .dataframe tbody tr th {\n",
       "        vertical-align: top;\n",
       "    }\n",
       "\n",
       "    .dataframe thead th {\n",
       "        text-align: right;\n",
       "    }\n",
       "</style>\n",
       "<table border=\"1\" class=\"dataframe\">\n",
       "  <thead>\n",
       "    <tr style=\"text-align: right;\">\n",
       "      <th></th>\n",
       "      <th>초미세먼지 최대(㎍/㎥)</th>\n",
       "      <th>초미세먼지 평균(㎍/㎥)</th>\n",
       "      <th>초미세먼지 최소(㎍/㎥)</th>\n",
       "      <th>미세먼지 최대(㎍/㎥)</th>\n",
       "      <th>미세먼지 평균(㎍/㎥)</th>\n",
       "      <th>미세먼지 최소(㎍/㎥)</th>\n",
       "      <th>등록일시</th>\n",
       "    </tr>\n",
       "  </thead>\n",
       "  <tbody>\n",
       "    <tr>\n",
       "      <th>0</th>\n",
       "      <td>4</td>\n",
       "      <td>4.0</td>\n",
       "      <td>4</td>\n",
       "      <td>4</td>\n",
       "      <td>4.0</td>\n",
       "      <td>4</td>\n",
       "      <td>2023-01-02 00:07:24</td>\n",
       "    </tr>\n",
       "    <tr>\n",
       "      <th>1</th>\n",
       "      <td>4</td>\n",
       "      <td>4.0</td>\n",
       "      <td>3</td>\n",
       "      <td>5</td>\n",
       "      <td>5.0</td>\n",
       "      <td>4</td>\n",
       "      <td>2023-01-02 00:07:24</td>\n",
       "    </tr>\n",
       "    <tr>\n",
       "      <th>2</th>\n",
       "      <td>10</td>\n",
       "      <td>9.0</td>\n",
       "      <td>9</td>\n",
       "      <td>15</td>\n",
       "      <td>12.0</td>\n",
       "      <td>11</td>\n",
       "      <td>2023-01-02 00:07:24</td>\n",
       "    </tr>\n",
       "    <tr>\n",
       "      <th>3</th>\n",
       "      <td>60</td>\n",
       "      <td>10.0</td>\n",
       "      <td>4</td>\n",
       "      <td>60</td>\n",
       "      <td>10.0</td>\n",
       "      <td>4</td>\n",
       "      <td>2023-01-02 00:07:24</td>\n",
       "    </tr>\n",
       "    <tr>\n",
       "      <th>4</th>\n",
       "      <td>9</td>\n",
       "      <td>9.0</td>\n",
       "      <td>8</td>\n",
       "      <td>12</td>\n",
       "      <td>11.0</td>\n",
       "      <td>10</td>\n",
       "      <td>2023-01-02 00:07:24</td>\n",
       "    </tr>\n",
       "  </tbody>\n",
       "</table>\n",
       "</div>"
      ],
      "text/plain": [
       "  초미세먼지 최대(㎍/㎥) 초미세먼지 평균(㎍/㎥) 초미세먼지 최소(㎍/㎥) 미세먼지 최대(㎍/㎥) 미세먼지 평균(㎍/㎥)  \\\n",
       "0             4           4.0             4            4          4.0   \n",
       "1             4           4.0             3            5          5.0   \n",
       "2            10           9.0             9           15         12.0   \n",
       "3            60          10.0             4           60         10.0   \n",
       "4             9           9.0             8           12         11.0   \n",
       "\n",
       "  미세먼지 최소(㎍/㎥)                 등록일시  \n",
       "0            4  2023-01-02 00:07:24  \n",
       "1            4  2023-01-02 00:07:24  \n",
       "2           11  2023-01-02 00:07:24  \n",
       "3            4  2023-01-02 00:07:24  \n",
       "4           10  2023-01-02 00:07:24  "
      ]
     },
     "execution_count": 13,
     "metadata": {},
     "output_type": "execute_result"
    }
   ],
   "source": [
    "df2.head(5)"
   ]
  },
  {
   "cell_type": "code",
   "execution_count": 14,
   "metadata": {},
   "outputs": [
    {
     "name": "stdout",
     "output_type": "stream",
     "text": [
      "df1_shape : (22221648, 5)\n",
      "df2_shape : (1483948, 7)\n"
     ]
    }
   ],
   "source": [
    "print('df1_shape :', df1.shape)\n",
    "print('df2_shape :', df2.shape)"
   ]
  },
  {
   "cell_type": "code",
   "execution_count": 15,
   "metadata": {},
   "outputs": [],
   "source": [
    "df1 = dropna_.drop_na(df1)\n",
    "df2 = dropna_.drop_na(df2)"
   ]
  },
  {
   "cell_type": "code",
   "execution_count": 16,
   "metadata": {},
   "outputs": [
    {
     "name": "stdout",
     "output_type": "stream",
     "text": [
      "df1_dropna_shape : (22165805, 5)\n",
      "df2_dropna_shape : (1468610, 7)\n"
     ]
    }
   ],
   "source": [
    "print('df1_dropna_shape :', df1.shape)\n",
    "print('df2_dropna_shape :', df2.shape)"
   ]
  },
  {
   "cell_type": "code",
   "execution_count": 17,
   "metadata": {},
   "outputs": [],
   "source": [
    "csv_load_path = 'C:/Users/wldnr/OneDrive/바탕 화면/DF/Work_JO/CP2/df_csv'\n",
    "\n",
    "load_.load_as_csv(df1, csv_load_path, '20.04.01~23.01.01')\n",
    "load_.load_as_csv(df2, csv_load_path, '23.01.02~')"
   ]
  },
  {
   "cell_type": "code",
   "execution_count": 18,
   "metadata": {},
   "outputs": [
    {
     "name": "stdout",
     "output_type": "stream",
     "text": [
      "File size : 118.11 MB\n",
      "압축률 : 86.88 %\n"
     ]
    }
   ],
   "source": [
    "gzip_load_path = 'C:/Users/wldnr/OneDrive/바탕 화면/DF/Work_JO/CP2/df_gzip'\n",
    "\n",
    "csv_file = 'C:/Users/wldnr/OneDrive/바탕 화면/DF/Work_JO/CP2/df_csv/20.04.01~23.01.01.csv'\n",
    "gz_file = 'C:/Users/wldnr/OneDrive/바탕 화면/DF/Work_JO/CP2/df_gzip/20.04.01~23.01.01.gz'\n",
    "\n",
    "compress_.load_to_gzip(df1, gzip_load_path, '20.04.01~23.01.01')\n",
    "compress_.load_to_gzip(df2, gzip_load_path, '23.01.02~')\n",
    "\n",
    "# Kbytes 단위변환 (확인용)\n",
    "def convert_size(size_bytes):\n",
    "    import math\n",
    "    if size_bytes == 0:\n",
    "        return \"0B\"\n",
    "    size_name = (\"B\", \"KB\", \"MB\", \"GB\", \"TB\", \"PB\", \"EB\", \"ZB\", \"YB\")\n",
    "    i = int(math.floor(math.log(size_bytes, 1024)))\n",
    "    p = math.pow(1024, i)\n",
    "    s = round(size_bytes / p, 2)\n",
    "    return \"%s %s\" % (s, size_name[i])\n",
    "\n",
    "csv_size = os.path.getsize(csv_file)\n",
    "gz_size = os.path.getsize(gz_file)\n",
    "\n",
    "print(f'File size :', convert_size(gz_size))\n",
    "print(f'압축률 : {100 - (gz_size/csv_size * 100):.2f} %')"
   ]
  }
 ],
 "metadata": {
  "kernelspec": {
   "display_name": "cp2",
   "language": "python",
   "name": "python3"
  },
  "language_info": {
   "codemirror_mode": {
    "name": "ipython",
    "version": 3
   },
   "file_extension": ".py",
   "mimetype": "text/x-python",
   "name": "python",
   "nbconvert_exporter": "python",
   "pygments_lexer": "ipython3",
   "version": "3.10.10"
  },
  "orig_nbformat": 4
 },
 "nbformat": 4,
 "nbformat_minor": 2
}
